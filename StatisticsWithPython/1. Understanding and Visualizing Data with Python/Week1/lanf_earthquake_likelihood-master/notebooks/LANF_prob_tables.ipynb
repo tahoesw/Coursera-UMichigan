{
 "metadata": {
  "name": ""
 },
 "nbformat": 3,
 "nbformat_minor": 0,
 "worksheets": [
  {
   "cells": [
    {
     "cell_type": "markdown",
     "metadata": {},
     "source": [
      "# Probability of observing slip on an LANF given their slip rates and geometries"
     ]
    },
    {
     "cell_type": "code",
     "collapsed": false,
     "input": [
      "import sys\n",
      "sys.path.append('../eq_stats/')"
     ],
     "language": "python",
     "metadata": {},
     "outputs": [],
     "prompt_number": 1
    },
    {
     "cell_type": "code",
     "collapsed": false,
     "input": [
      "import numpy as np\n",
      "import pandas as pd\n",
      "import eq_stats as eqs"
     ],
     "language": "python",
     "metadata": {},
     "outputs": [],
     "prompt_number": 2
    },
    {
     "cell_type": "markdown",
     "metadata": {},
     "source": [
      "Define some parameters for calculations, and import fault data"
     ]
    },
    {
     "cell_type": "code",
     "collapsed": false,
     "input": [
      "M_vec = np.linspace(5, 7.64, num=1000)\n",
      "FM_vec = eqs.F(M_vec)\n",
      "\n",
      "n_samp = 1e5"
     ],
     "language": "python",
     "metadata": {},
     "outputs": [],
     "prompt_number": 3
    },
    {
     "cell_type": "code",
     "collapsed": false,
     "input": [
      "f = pd.read_csv('../data/lanf_stats.csv', index_col=0)\n",
      "\n",
      "f"
     ],
     "language": "python",
     "metadata": {},
     "outputs": [
      {
       "html": [
        "<div style=\"max-height:1000px;max-width:1500px;overflow:auto;\">\n",
        "<table border=\"1\" class=\"dataframe\">\n",
        "  <thead>\n",
        "    <tr style=\"text-align: right;\">\n",
        "      <th></th>\n",
        "      <th>L_km</th>\n",
        "      <th>z_km</th>\n",
        "      <th>slip_rate_mm_a</th>\n",
        "      <th>sr_err_mm_a</th>\n",
        "      <th>dip_deg</th>\n",
        "      <th>dip_err_deg</th>\n",
        "    </tr>\n",
        "    <tr>\n",
        "      <th>fault</th>\n",
        "      <th></th>\n",
        "      <th></th>\n",
        "      <th></th>\n",
        "      <th></th>\n",
        "      <th></th>\n",
        "      <th></th>\n",
        "    </tr>\n",
        "  </thead>\n",
        "  <tbody>\n",
        "    <tr>\n",
        "      <th>kongur_shan</th>\n",
        "      <td> 147</td>\n",
        "      <td> 10</td>\n",
        "      <td> 6.5</td>\n",
        "      <td> 2.0</td>\n",
        "      <td> 30</td>\n",
        "      <td> 10.0</td>\n",
        "    </tr>\n",
        "    <tr>\n",
        "      <th>leo_pargil</th>\n",
        "      <td>  56</td>\n",
        "      <td> 10</td>\n",
        "      <td> 1.0</td>\n",
        "      <td> 1.0</td>\n",
        "      <td> 25</td>\n",
        "      <td> 10.0</td>\n",
        "    </tr>\n",
        "    <tr>\n",
        "      <th>gurla_mandhata</th>\n",
        "      <td>  44</td>\n",
        "      <td> 10</td>\n",
        "      <td> 4.5</td>\n",
        "      <td> 2.0</td>\n",
        "      <td> 33</td>\n",
        "      <td> 10.0</td>\n",
        "    </tr>\n",
        "    <tr>\n",
        "      <th>s_lunggar</th>\n",
        "      <td>  20</td>\n",
        "      <td> 10</td>\n",
        "      <td> 2.5</td>\n",
        "      <td> 0.5</td>\n",
        "      <td> 22</td>\n",
        "      <td>  5.0</td>\n",
        "    </tr>\n",
        "    <tr>\n",
        "      <th>n_lunggar</th>\n",
        "      <td>  32</td>\n",
        "      <td> 10</td>\n",
        "      <td> 2.0</td>\n",
        "      <td> 1.0</td>\n",
        "      <td> 25</td>\n",
        "      <td>  5.0</td>\n",
        "    </tr>\n",
        "    <tr>\n",
        "      <th>pqx_qingdu</th>\n",
        "      <td>  15</td>\n",
        "      <td> 10</td>\n",
        "      <td> 1.0</td>\n",
        "      <td> 0.5</td>\n",
        "      <td> 30</td>\n",
        "      <td>  5.0</td>\n",
        "    </tr>\n",
        "    <tr>\n",
        "      <th>pqx_n</th>\n",
        "      <td>  11</td>\n",
        "      <td> 10</td>\n",
        "      <td> 1.0</td>\n",
        "      <td> 0.5</td>\n",
        "      <td> 25</td>\n",
        "      <td>  7.5</td>\n",
        "    </tr>\n",
        "    <tr>\n",
        "      <th>nqtl</th>\n",
        "      <td> 115</td>\n",
        "      <td> 10</td>\n",
        "      <td> 2.5</td>\n",
        "      <td> 1.5</td>\n",
        "      <td> 30</td>\n",
        "      <td>  8.0</td>\n",
        "    </tr>\n",
        "    <tr>\n",
        "      <th>alto_tiberina</th>\n",
        "      <td>  60</td>\n",
        "      <td>  4</td>\n",
        "      <td> 2.4</td>\n",
        "      <td> 0.3</td>\n",
        "      <td> 25</td>\n",
        "      <td>  5.0</td>\n",
        "    </tr>\n",
        "  </tbody>\n",
        "</table>\n",
        "</div>"
       ],
       "metadata": {},
       "output_type": "pyout",
       "prompt_number": 4,
       "text": [
        "                L_km  z_km  slip_rate_mm_a  sr_err_mm_a  dip_deg  dip_err_deg\n",
        "fault                                                                        \n",
        "kongur_shan      147    10             6.5          2.0       30         10.0\n",
        "leo_pargil        56    10             1.0          1.0       25         10.0\n",
        "gurla_mandhata    44    10             4.5          2.0       33         10.0\n",
        "s_lunggar         20    10             2.5          0.5       22          5.0\n",
        "n_lunggar         32    10             2.0          1.0       25          5.0\n",
        "pqx_qingdu        15    10             1.0          0.5       30          5.0\n",
        "pqx_n             11    10             1.0          0.5       25          7.5\n",
        "nqtl             115    10             2.5          1.5       30          8.0\n",
        "alto_tiberina     60     4             2.4          0.3       25          5.0"
       ]
      }
     ],
     "prompt_number": 4
    },
    {
     "cell_type": "code",
     "collapsed": false,
     "input": [
      "time_window = np.arange(100) + 1\n",
      "\n",
      "mag_vals = np.array([5.0, 5.5, 6.0, 6.5, 7.0, 7.5])"
     ],
     "language": "python",
     "metadata": {},
     "outputs": [],
     "prompt_number": 5
    },
    {
     "cell_type": "markdown",
     "metadata": {},
     "source": [
      "## South Lunggar Detachment"
     ]
    },
    {
     "cell_type": "markdown",
     "metadata": {},
     "source": [
      "make fault dataframe"
     ]
    },
    {
     "cell_type": "code",
     "collapsed": false,
     "input": [
      "slr = f.loc['s_lunggar']\n",
      "df_cols = ['M', 'Mo', 'Ddot', 'dip', 'recur_int', 'cum_yrs']\n",
      "slr_mc = pd.DataFrame(index=np.arange(n_samp), columns=df_cols)"
     ],
     "language": "python",
     "metadata": {},
     "outputs": [],
     "prompt_number": 6
    },
    {
     "cell_type": "markdown",
     "metadata": {},
     "source": [
      "Populate dataframe with sample of eqs, dips, slip rates"
     ]
    },
    {
     "cell_type": "code",
     "collapsed": false,
     "input": [
      "slr_mc.M = eqs.sample_from_pdf(M_vec, FM_vec, n_samp)\n",
      "slr_mc.Mo = eqs.calc_Mo_from_M(slr_mc.M)\n",
      "\n",
      "slr_mc.dip, prob_frac = eqs.dip_rand_samp(slr['dip_deg'], slr['dip_err_deg'],\n",
      "                                          n_samp)\n",
      "\n",
      "slr_mc.Ddot = eqs.Ddot_rand_samp(slr['slip_rate_mm_a'], slr['sr_err_mm_a'],\n",
      "                                 n_samp)\n",
      "\n",
      "slr_mc.recur_int = eqs.calc_recurrence_interval(Mo=slr_mc.Mo, dip=slr_mc.dip,\n",
      "                                                slip_rate=slr_mc.Ddot,\n",
      "                                                L=slr['L_km'], z=slr['z_km'])\n",
      "\n",
      "slr_mc.cum_yrs = eqs.calc_cumulative_yrs(slr_mc.recur_int)"
     ],
     "language": "python",
     "metadata": {},
     "outputs": [],
     "prompt_number": 7
    },
    {
     "cell_type": "markdown",
     "metadata": {},
     "source": [
      "Make EQ time series and calculate probability"
     ]
    },
    {
     "cell_type": "code",
     "collapsed": false,
     "input": [
      "slr_eq_time_series = eqs.make_eq_time_series(slr_mc.M, slr_mc.cum_yrs)"
     ],
     "language": "python",
     "metadata": {},
     "outputs": [],
     "prompt_number": 8
    },
    {
     "cell_type": "code",
     "collapsed": false,
     "input": [
      "eqs.get_prob_above_val_in_window(slr_eq_time_series, 6, 40)"
     ],
     "language": "python",
     "metadata": {},
     "outputs": [
      {
       "metadata": {},
       "output_type": "pyout",
       "prompt_number": 9,
       "text": [
        "0.023580344543560616"
       ]
      }
     ],
     "prompt_number": 9
    },
    {
     "cell_type": "markdown",
     "metadata": {},
     "source": [
      "make dataframe of time windows, magnitudes, and probabilities"
     ]
    },
    {
     "cell_type": "code",
     "collapsed": false,
     "input": [
      "slr_probs = pd.DataFrame(index=time_window, columns=mag_vals)"
     ],
     "language": "python",
     "metadata": {},
     "outputs": [],
     "prompt_number": 10
    },
    {
     "cell_type": "code",
     "collapsed": false,
     "input": [
      "for t in time_window:\n",
      "    for M in mag_vals:\n",
      "        #print t, M\n",
      "        slr_probs.loc[t][M] = eqs.get_prob_above_val_in_window(\n",
      "                                    slr_eq_time_series, M, t) * prob_frac"
     ],
     "language": "python",
     "metadata": {},
     "outputs": [],
     "prompt_number": 11
    },
    {
     "cell_type": "code",
     "collapsed": false,
     "input": [
      "slr_probs.head()"
     ],
     "language": "python",
     "metadata": {},
     "outputs": [
      {
       "html": [
        "<div style=\"max-height:1000px;max-width:1500px;overflow:auto;\">\n",
        "<table border=\"1\" class=\"dataframe\">\n",
        "  <thead>\n",
        "    <tr style=\"text-align: right;\">\n",
        "      <th></th>\n",
        "      <th>5.0</th>\n",
        "      <th>5.5</th>\n",
        "      <th>6.0</th>\n",
        "      <th>6.5</th>\n",
        "      <th>7.0</th>\n",
        "      <th>7.5</th>\n",
        "    </tr>\n",
        "  </thead>\n",
        "  <tbody>\n",
        "    <tr>\n",
        "      <th>1</th>\n",
        "      <td> 0.005726721</td>\n",
        "      <td> 0.001839079</td>\n",
        "      <td> 0.0005895086</td>\n",
        "      <td> 0.0001850303</td>\n",
        "      <td>   4.9078e-05</td>\n",
        "      <td> 5.669453e-06</td>\n",
        "    </tr>\n",
        "    <tr>\n",
        "      <th>2</th>\n",
        "      <td>  0.01145338</td>\n",
        "      <td> 0.003678158</td>\n",
        "      <td>  0.001179017</td>\n",
        "      <td> 0.0003700607</td>\n",
        "      <td> 9.815599e-05</td>\n",
        "      <td> 1.133891e-05</td>\n",
        "    </tr>\n",
        "    <tr>\n",
        "      <th>3</th>\n",
        "      <td>  0.01718005</td>\n",
        "      <td> 0.005517237</td>\n",
        "      <td>  0.001768526</td>\n",
        "      <td>  0.000555091</td>\n",
        "      <td>  0.000147234</td>\n",
        "      <td> 1.700836e-05</td>\n",
        "    </tr>\n",
        "    <tr>\n",
        "      <th>4</th>\n",
        "      <td>  0.02280644</td>\n",
        "      <td> 0.007356316</td>\n",
        "      <td>  0.002358034</td>\n",
        "      <td> 0.0007401214</td>\n",
        "      <td>  0.000196312</td>\n",
        "      <td> 2.267781e-05</td>\n",
        "    </tr>\n",
        "    <tr>\n",
        "      <th>5</th>\n",
        "      <td>  0.02798162</td>\n",
        "      <td> 0.009195395</td>\n",
        "      <td>  0.002947543</td>\n",
        "      <td> 0.0009251517</td>\n",
        "      <td>   0.00024539</td>\n",
        "      <td> 2.834727e-05</td>\n",
        "    </tr>\n",
        "  </tbody>\n",
        "</table>\n",
        "</div>"
       ],
       "metadata": {},
       "output_type": "pyout",
       "prompt_number": 12,
       "text": [
        "           5.0          5.5           6.0           6.5           7.0  \\\n",
        "1  0.005726721  0.001839079  0.0005895086  0.0001850303    4.9078e-05   \n",
        "2   0.01145338  0.003678158   0.001179017  0.0003700607  9.815599e-05   \n",
        "3   0.01718005  0.005517237   0.001768526   0.000555091   0.000147234   \n",
        "4   0.02280644  0.007356316   0.002358034  0.0007401214   0.000196312   \n",
        "5   0.02798162  0.009195395   0.002947543  0.0009251517    0.00024539   \n",
        "\n",
        "            7.5  \n",
        "1  5.669453e-06  \n",
        "2  1.133891e-05  \n",
        "3  1.700836e-05  \n",
        "4  2.267781e-05  \n",
        "5  2.834727e-05  "
       ]
      }
     ],
     "prompt_number": 12
    },
    {
     "cell_type": "code",
     "collapsed": false,
     "input": [
      "!mkdir ../results"
     ],
     "language": "python",
     "metadata": {},
     "outputs": [],
     "prompt_number": 25
    },
    {
     "cell_type": "code",
     "collapsed": false,
     "input": [
      "slr_probs.to_csv('../results/slr_table.csv')"
     ],
     "language": "python",
     "metadata": {},
     "outputs": [],
     "prompt_number": 26
    },
    {
     "cell_type": "markdown",
     "metadata": {},
     "source": [
      "## let's streamline the process"
     ]
    },
    {
     "cell_type": "code",
     "collapsed": false,
     "input": [
      "def get_probs(fault_name):\n",
      "    #pr = prefi\n",
      "    \n",
      "    # get fault info\n",
      "    pr = f.loc[fault_name]\n",
      "    df_cols = ['M', 'Mo', 'Ddot', 'dip', 'recur_int', 'cum_yrs']\n",
      "    pr_mc = pd.DataFrame(index=np.arange(n_samp), columns=df_cols)\n",
      "\n",
      "    # Populate dataframe with sample of eqs, dips, slip rates\n",
      "    pr_mc.M = eqs.sample_from_pdf(M_vec, FM_vec, n_samp)\n",
      "    pr_mc.Mo = eqs.calc_Mo_from_M(pr_mc.M)\n",
      "\n",
      "    pr_mc.dip, prob_frac = eqs.dip_rand_samp(pr['dip_deg'], pr['dip_err_deg'],\n",
      "                                             n_samp)\n",
      "\n",
      "    pr_mc.Ddot = eqs.Ddot_rand_samp(pr['slip_rate_mm_a'], pr['sr_err_mm_a'],\n",
      "                                    n_samp)\n",
      "\n",
      "    pr_mc.recur_int = eqs.calc_recurrence_interval(Mo=pr_mc.Mo, dip=pr_mc.dip,\n",
      "                                                    slip_rate=pr_mc.Ddot,\n",
      "                                                    L=pr['L_km'], z=pr['z_km'])\n",
      "\n",
      "    pr_mc.cum_yrs = eqs.calc_cumulative_yrs(pr_mc.recur_int)\n",
      "\n",
      "    # Make EQ time series and calculate probability\n",
      "    pr_eq_time_series = eqs.make_eq_time_series(pr_mc.M, pr_mc.cum_yrs)\n",
      "\n",
      "    # make dataframe of time windows, magnitudes, and probabilities\n",
      "    pr_probs = pd.DataFrame(index=time_window, columns=mag_vals)\n",
      "\n",
      "    for t in time_window:\n",
      "        for M in mag_vals:\n",
      "            pr_probs.loc[t][M] = eqs.get_prob_above_val_in_window(\n",
      "                                       pr_eq_time_series, M, t) * prob_frac\n",
      "            \n",
      "    return pr_probs\n",
      "\n"
     ],
     "language": "python",
     "metadata": {},
     "outputs": [],
     "prompt_number": 6
    },
    {
     "cell_type": "markdown",
     "metadata": {},
     "source": [
      "## North Lunggar Detachment"
     ]
    },
    {
     "cell_type": "code",
     "collapsed": false,
     "input": [
      "nlr_probs = get_probs('n_lunggar')"
     ],
     "language": "python",
     "metadata": {},
     "outputs": [],
     "prompt_number": 14
    },
    {
     "cell_type": "code",
     "collapsed": false,
     "input": [
      "nlr_probs.head()"
     ],
     "language": "python",
     "metadata": {},
     "outputs": [
      {
       "html": [
        "<div style=\"max-height:1000px;max-width:1500px;overflow:auto;\">\n",
        "<table border=\"1\" class=\"dataframe\">\n",
        "  <thead>\n",
        "    <tr style=\"text-align: right;\">\n",
        "      <th></th>\n",
        "      <th>5.0</th>\n",
        "      <th>5.5</th>\n",
        "      <th>6.0</th>\n",
        "      <th>6.5</th>\n",
        "      <th>7.0</th>\n",
        "      <th>7.5</th>\n",
        "    </tr>\n",
        "  </thead>\n",
        "  <tbody>\n",
        "    <tr>\n",
        "      <th>1</th>\n",
        "      <td> 0.005830359</td>\n",
        "      <td> 0.001880466</td>\n",
        "      <td> 0.0006014599</td>\n",
        "      <td> 0.0001904195</td>\n",
        "      <td> 5.078243e-05</td>\n",
        "      <td> 6.355091e-06</td>\n",
        "    </tr>\n",
        "    <tr>\n",
        "      <th>2</th>\n",
        "      <td>  0.01166066</td>\n",
        "      <td> 0.003760873</td>\n",
        "      <td>  0.001202861</td>\n",
        "      <td> 0.0003807808</td>\n",
        "      <td> 0.0001015649</td>\n",
        "      <td> 1.271018e-05</td>\n",
        "    </tr>\n",
        "    <tr>\n",
        "      <th>3</th>\n",
        "      <td>  0.01744269</td>\n",
        "      <td> 0.005641281</td>\n",
        "      <td>  0.001804263</td>\n",
        "      <td>  0.000571142</td>\n",
        "      <td> 0.0001523473</td>\n",
        "      <td> 1.906527e-05</td>\n",
        "    </tr>\n",
        "    <tr>\n",
        "      <th>4</th>\n",
        "      <td>   0.0228444</td>\n",
        "      <td> 0.007521688</td>\n",
        "      <td>  0.002405664</td>\n",
        "      <td> 0.0007615032</td>\n",
        "      <td> 0.0002031297</td>\n",
        "      <td> 2.542037e-05</td>\n",
        "    </tr>\n",
        "    <tr>\n",
        "      <th>5</th>\n",
        "      <td>  0.02775362</td>\n",
        "      <td> 0.009402096</td>\n",
        "      <td>  0.003007066</td>\n",
        "      <td> 0.0009518644</td>\n",
        "      <td> 0.0002539121</td>\n",
        "      <td> 3.177546e-05</td>\n",
        "    </tr>\n",
        "  </tbody>\n",
        "</table>\n",
        "</div>"
       ],
       "metadata": {},
       "output_type": "pyout",
       "prompt_number": 15,
       "text": [
        "           5.0          5.5           6.0           6.5           7.0  \\\n",
        "1  0.005830359  0.001880466  0.0006014599  0.0001904195  5.078243e-05   \n",
        "2   0.01166066  0.003760873   0.001202861  0.0003807808  0.0001015649   \n",
        "3   0.01744269  0.005641281   0.001804263   0.000571142  0.0001523473   \n",
        "4    0.0228444  0.007521688   0.002405664  0.0007615032  0.0002031297   \n",
        "5   0.02775362  0.009402096   0.003007066  0.0009518644  0.0002539121   \n",
        "\n",
        "            7.5  \n",
        "1  6.355091e-06  \n",
        "2  1.271018e-05  \n",
        "3  1.906527e-05  \n",
        "4  2.542037e-05  \n",
        "5  3.177546e-05  "
       ]
      }
     ],
     "prompt_number": 15
    },
    {
     "cell_type": "code",
     "collapsed": false,
     "input": [
      "nlr_probs.to_csv('../results/nlr_table.csv')"
     ],
     "language": "python",
     "metadata": {},
     "outputs": [],
     "prompt_number": 28
    },
    {
     "cell_type": "markdown",
     "metadata": {},
     "source": [
      "## Kongur Shan"
     ]
    },
    {
     "cell_type": "code",
     "collapsed": false,
     "input": [
      "ks_probs = get_probs('kongur_shan')"
     ],
     "language": "python",
     "metadata": {},
     "outputs": [],
     "prompt_number": 16
    },
    {
     "cell_type": "code",
     "collapsed": false,
     "input": [
      "ks_probs.head()"
     ],
     "language": "python",
     "metadata": {},
     "outputs": [
      {
       "html": [
        "<div style=\"max-height:1000px;max-width:1500px;overflow:auto;\">\n",
        "<table border=\"1\" class=\"dataframe\">\n",
        "  <thead>\n",
        "    <tr style=\"text-align: right;\">\n",
        "      <th></th>\n",
        "      <th>5.0</th>\n",
        "      <th>5.5</th>\n",
        "      <th>6.0</th>\n",
        "      <th>6.5</th>\n",
        "      <th>7.0</th>\n",
        "      <th>7.5</th>\n",
        "    </tr>\n",
        "  </thead>\n",
        "  <tbody>\n",
        "    <tr>\n",
        "      <th>1</th>\n",
        "      <td> 0.02936775</td>\n",
        "      <td> 0.009361432</td>\n",
        "      <td> 0.002965765</td>\n",
        "      <td> 0.0009282716</td>\n",
        "      <td> 0.0002471871</td>\n",
        "      <td> 3.023842e-05</td>\n",
        "    </tr>\n",
        "    <tr>\n",
        "      <th>2</th>\n",
        "      <td>  0.0436878</td>\n",
        "      <td>   0.0184368</td>\n",
        "      <td> 0.005931531</td>\n",
        "      <td>  0.001856543</td>\n",
        "      <td> 0.0004943742</td>\n",
        "      <td> 6.047685e-05</td>\n",
        "    </tr>\n",
        "    <tr>\n",
        "      <th>3</th>\n",
        "      <td> 0.05386519</td>\n",
        "      <td>  0.02665253</td>\n",
        "      <td> 0.008897296</td>\n",
        "      <td>  0.002784815</td>\n",
        "      <td> 0.0007415613</td>\n",
        "      <td> 9.071527e-05</td>\n",
        "    </tr>\n",
        "    <tr>\n",
        "      <th>4</th>\n",
        "      <td> 0.06201085</td>\n",
        "      <td>  0.03404078</td>\n",
        "      <td>  0.01186306</td>\n",
        "      <td>  0.003713086</td>\n",
        "      <td> 0.0009887484</td>\n",
        "      <td> 0.0001209537</td>\n",
        "    </tr>\n",
        "    <tr>\n",
        "      <th>5</th>\n",
        "      <td> 0.06894744</td>\n",
        "      <td>  0.04072156</td>\n",
        "      <td>  0.01482883</td>\n",
        "      <td>  0.004641358</td>\n",
        "      <td>  0.001235936</td>\n",
        "      <td> 0.0001511921</td>\n",
        "    </tr>\n",
        "  </tbody>\n",
        "</table>\n",
        "</div>"
       ],
       "metadata": {},
       "output_type": "pyout",
       "prompt_number": 17,
       "text": [
        "          5.0          5.5          6.0           6.5           7.0  \\\n",
        "1  0.02936775  0.009361432  0.002965765  0.0009282716  0.0002471871   \n",
        "2   0.0436878    0.0184368  0.005931531   0.001856543  0.0004943742   \n",
        "3  0.05386519   0.02665253  0.008897296   0.002784815  0.0007415613   \n",
        "4  0.06201085   0.03404078   0.01186306   0.003713086  0.0009887484   \n",
        "5  0.06894744   0.04072156   0.01482883   0.004641358   0.001235936   \n",
        "\n",
        "            7.5  \n",
        "1  3.023842e-05  \n",
        "2  6.047685e-05  \n",
        "3  9.071527e-05  \n",
        "4  0.0001209537  \n",
        "5  0.0001511921  "
       ]
      }
     ],
     "prompt_number": 17
    },
    {
     "cell_type": "code",
     "collapsed": false,
     "input": [
      "ks_probs.to_csv('../results/ks_table.csv')"
     ],
     "language": "python",
     "metadata": {},
     "outputs": [],
     "prompt_number": 27
    },
    {
     "cell_type": "markdown",
     "metadata": {},
     "source": [
      "## Leo Pargil"
     ]
    },
    {
     "cell_type": "code",
     "collapsed": false,
     "input": [
      "lp_probs = get_probs('leo_pargil')"
     ],
     "language": "python",
     "metadata": {},
     "outputs": [],
     "prompt_number": 7
    },
    {
     "cell_type": "code",
     "collapsed": false,
     "input": [
      "lp_probs.head()"
     ],
     "language": "python",
     "metadata": {},
     "outputs": [
      {
       "html": [
        "<div style=\"max-height:1000px;max-width:1500px;overflow:auto;\">\n",
        "<table border=\"1\" class=\"dataframe\">\n",
        "  <thead>\n",
        "    <tr style=\"text-align: right;\">\n",
        "      <th></th>\n",
        "      <th>5.0</th>\n",
        "      <th>5.5</th>\n",
        "      <th>6.0</th>\n",
        "      <th>6.5</th>\n",
        "      <th>7.0</th>\n",
        "      <th>7.5</th>\n",
        "    </tr>\n",
        "  </thead>\n",
        "  <tbody>\n",
        "    <tr>\n",
        "      <th>1</th>\n",
        "      <td> 0.0008126479</td>\n",
        "      <td> 0.0002593972</td>\n",
        "      <td>  8.3077e-05</td>\n",
        "      <td> 2.629729e-05</td>\n",
        "      <td> 7.053784e-06</td>\n",
        "      <td> 7.720155e-07</td>\n",
        "    </tr>\n",
        "    <tr>\n",
        "      <th>2</th>\n",
        "      <td>  0.001624361</td>\n",
        "      <td> 0.0005187944</td>\n",
        "      <td> 0.000166154</td>\n",
        "      <td> 5.259457e-05</td>\n",
        "      <td> 1.410757e-05</td>\n",
        "      <td> 1.544031e-06</td>\n",
        "    </tr>\n",
        "    <tr>\n",
        "      <th>3</th>\n",
        "      <td>  0.002404544</td>\n",
        "      <td> 0.0007781916</td>\n",
        "      <td> 0.000249231</td>\n",
        "      <td> 7.889186e-05</td>\n",
        "      <td> 2.116135e-05</td>\n",
        "      <td> 2.316047e-06</td>\n",
        "    </tr>\n",
        "    <tr>\n",
        "      <th>4</th>\n",
        "      <td>  0.003127191</td>\n",
        "      <td>  0.001037589</td>\n",
        "      <td> 0.000332308</td>\n",
        "      <td> 0.0001051891</td>\n",
        "      <td> 2.821514e-05</td>\n",
        "      <td> 3.088062e-06</td>\n",
        "    </tr>\n",
        "    <tr>\n",
        "      <th>5</th>\n",
        "      <td>  0.003795813</td>\n",
        "      <td>  0.001296986</td>\n",
        "      <td> 0.000415385</td>\n",
        "      <td> 0.0001314864</td>\n",
        "      <td> 3.526892e-05</td>\n",
        "      <td> 3.860078e-06</td>\n",
        "    </tr>\n",
        "  </tbody>\n",
        "</table>\n",
        "</div>"
       ],
       "metadata": {},
       "output_type": "pyout",
       "prompt_number": 8,
       "text": [
        "            5.0           5.5          6.0           6.5           7.0  \\\n",
        "1  0.0008126479  0.0002593972   8.3077e-05  2.629729e-05  7.053784e-06   \n",
        "2   0.001624361  0.0005187944  0.000166154  5.259457e-05  1.410757e-05   \n",
        "3   0.002404544  0.0007781916  0.000249231  7.889186e-05  2.116135e-05   \n",
        "4   0.003127191   0.001037589  0.000332308  0.0001051891  2.821514e-05   \n",
        "5   0.003795813   0.001296986  0.000415385  0.0001314864  3.526892e-05   \n",
        "\n",
        "            7.5  \n",
        "1  7.720155e-07  \n",
        "2  1.544031e-06  \n",
        "3  2.316047e-06  \n",
        "4  3.088062e-06  \n",
        "5  3.860078e-06  "
       ]
      }
     ],
     "prompt_number": 8
    },
    {
     "cell_type": "code",
     "collapsed": false,
     "input": [
      "lp_probs.to_csv('../results/lp_table.csv')"
     ],
     "language": "python",
     "metadata": {},
     "outputs": [],
     "prompt_number": 9
    },
    {
     "cell_type": "markdown",
     "metadata": {},
     "source": [
      "## Gurla Mandhata"
     ]
    },
    {
     "cell_type": "code",
     "collapsed": false,
     "input": [
      "gm_probs = get_probs('gurla_mandhata')"
     ],
     "language": "python",
     "metadata": {},
     "outputs": [],
     "prompt_number": 19
    },
    {
     "cell_type": "code",
     "collapsed": false,
     "input": [
      "gm_probs.head()"
     ],
     "language": "python",
     "metadata": {},
     "outputs": [
      {
       "html": [
        "<div style=\"max-height:1000px;max-width:1500px;overflow:auto;\">\n",
        "<table border=\"1\" class=\"dataframe\">\n",
        "  <thead>\n",
        "    <tr style=\"text-align: right;\">\n",
        "      <th></th>\n",
        "      <th>5.0</th>\n",
        "      <th>5.5</th>\n",
        "      <th>6.0</th>\n",
        "      <th>6.5</th>\n",
        "      <th>7.0</th>\n",
        "      <th>7.5</th>\n",
        "    </tr>\n",
        "  </thead>\n",
        "  <tbody>\n",
        "    <tr>\n",
        "      <th>1</th>\n",
        "      <td> 0.006218659</td>\n",
        "      <td> 0.002000729</td>\n",
        "      <td> 0.0006392782</td>\n",
        "      <td> 0.0001975046</td>\n",
        "      <td> 5.360484e-05</td>\n",
        "      <td> 6.716152e-06</td>\n",
        "    </tr>\n",
        "    <tr>\n",
        "      <th>2</th>\n",
        "      <td>   0.0115432</td>\n",
        "      <td> 0.004001458</td>\n",
        "      <td>  0.001278556</td>\n",
        "      <td> 0.0003950092</td>\n",
        "      <td> 0.0001072097</td>\n",
        "      <td>  1.34323e-05</td>\n",
        "    </tr>\n",
        "    <tr>\n",
        "      <th>3</th>\n",
        "      <td>  0.01549939</td>\n",
        "      <td> 0.006002188</td>\n",
        "      <td>  0.001917834</td>\n",
        "      <td> 0.0005925138</td>\n",
        "      <td> 0.0001608145</td>\n",
        "      <td> 2.014846e-05</td>\n",
        "    </tr>\n",
        "    <tr>\n",
        "      <th>4</th>\n",
        "      <td>  0.01867637</td>\n",
        "      <td> 0.008002917</td>\n",
        "      <td>  0.002557113</td>\n",
        "      <td> 0.0007900184</td>\n",
        "      <td> 0.0002144194</td>\n",
        "      <td> 2.686461e-05</td>\n",
        "    </tr>\n",
        "    <tr>\n",
        "      <th>5</th>\n",
        "      <td>  0.02136986</td>\n",
        "      <td>   0.0100034</td>\n",
        "      <td>  0.003196391</td>\n",
        "      <td> 0.0009875231</td>\n",
        "      <td> 0.0002680242</td>\n",
        "      <td> 3.358076e-05</td>\n",
        "    </tr>\n",
        "  </tbody>\n",
        "</table>\n",
        "</div>"
       ],
       "metadata": {},
       "output_type": "pyout",
       "prompt_number": 20,
       "text": [
        "           5.0          5.5           6.0           6.5           7.0  \\\n",
        "1  0.006218659  0.002000729  0.0006392782  0.0001975046  5.360484e-05   \n",
        "2    0.0115432  0.004001458   0.001278556  0.0003950092  0.0001072097   \n",
        "3   0.01549939  0.006002188   0.001917834  0.0005925138  0.0001608145   \n",
        "4   0.01867637  0.008002917   0.002557113  0.0007900184  0.0002144194   \n",
        "5   0.02136986    0.0100034   0.003196391  0.0009875231  0.0002680242   \n",
        "\n",
        "            7.5  \n",
        "1  6.716152e-06  \n",
        "2   1.34323e-05  \n",
        "3  2.014846e-05  \n",
        "4  2.686461e-05  \n",
        "5  3.358076e-05  "
       ]
      }
     ],
     "prompt_number": 20
    },
    {
     "cell_type": "code",
     "collapsed": false,
     "input": [
      "gm_probs.to_csv('../results/gm_table.csv')"
     ],
     "language": "python",
     "metadata": {},
     "outputs": [],
     "prompt_number": 29
    },
    {
     "cell_type": "markdown",
     "metadata": {},
     "source": [
      "## Pumqu-Xainza, Qingdu segment"
     ]
    },
    {
     "cell_type": "code",
     "collapsed": false,
     "input": [
      "pqxq_probs = get_probs('pqx_qingdu')"
     ],
     "language": "python",
     "metadata": {},
     "outputs": [],
     "prompt_number": 23
    },
    {
     "cell_type": "code",
     "collapsed": false,
     "input": [
      "pqxq_probs.head()"
     ],
     "language": "python",
     "metadata": {},
     "outputs": [
      {
       "html": [
        "<div style=\"max-height:1000px;max-width:1500px;overflow:auto;\">\n",
        "<table border=\"1\" class=\"dataframe\">\n",
        "  <thead>\n",
        "    <tr style=\"text-align: right;\">\n",
        "      <th></th>\n",
        "      <th>5.0</th>\n",
        "      <th>5.5</th>\n",
        "      <th>6.0</th>\n",
        "      <th>6.5</th>\n",
        "      <th>7.0</th>\n",
        "      <th>7.5</th>\n",
        "    </tr>\n",
        "  </thead>\n",
        "  <tbody>\n",
        "    <tr>\n",
        "      <th>1</th>\n",
        "      <td>  0.00064289</td>\n",
        "      <td>  0.000207872</td>\n",
        "      <td> 6.751631e-05</td>\n",
        "      <td> 2.054676e-05</td>\n",
        "      <td> 5.567427e-06</td>\n",
        "      <td> 6.236033e-07</td>\n",
        "    </tr>\n",
        "    <tr>\n",
        "      <th>2</th>\n",
        "      <td> 0.001285774</td>\n",
        "      <td> 0.0004157441</td>\n",
        "      <td> 0.0001350326</td>\n",
        "      <td> 4.109353e-05</td>\n",
        "      <td> 1.113485e-05</td>\n",
        "      <td> 1.247207e-06</td>\n",
        "    </tr>\n",
        "    <tr>\n",
        "      <th>3</th>\n",
        "      <td> 0.001928657</td>\n",
        "      <td> 0.0006236161</td>\n",
        "      <td> 0.0002025489</td>\n",
        "      <td> 6.164029e-05</td>\n",
        "      <td> 1.670228e-05</td>\n",
        "      <td>  1.87081e-06</td>\n",
        "    </tr>\n",
        "    <tr>\n",
        "      <th>4</th>\n",
        "      <td> 0.002571541</td>\n",
        "      <td> 0.0008314882</td>\n",
        "      <td> 0.0002700652</td>\n",
        "      <td> 8.218706e-05</td>\n",
        "      <td> 2.226971e-05</td>\n",
        "      <td> 2.494413e-06</td>\n",
        "    </tr>\n",
        "    <tr>\n",
        "      <th>5</th>\n",
        "      <td> 0.003214424</td>\n",
        "      <td>   0.00103936</td>\n",
        "      <td> 0.0003375815</td>\n",
        "      <td> 0.0001027338</td>\n",
        "      <td> 2.783714e-05</td>\n",
        "      <td> 3.118016e-06</td>\n",
        "    </tr>\n",
        "  </tbody>\n",
        "</table>\n",
        "</div>"
       ],
       "metadata": {},
       "output_type": "pyout",
       "prompt_number": 22,
       "text": [
        "           5.0           5.5           6.0           6.5           7.0  \\\n",
        "1   0.00064289   0.000207872  6.751631e-05  2.054676e-05  5.567427e-06   \n",
        "2  0.001285774  0.0004157441  0.0001350326  4.109353e-05  1.113485e-05   \n",
        "3  0.001928657  0.0006236161  0.0002025489  6.164029e-05  1.670228e-05   \n",
        "4  0.002571541  0.0008314882  0.0002700652  8.218706e-05  2.226971e-05   \n",
        "5  0.003214424    0.00103936  0.0003375815  0.0001027338  2.783714e-05   \n",
        "\n",
        "            7.5  \n",
        "1  6.236033e-07  \n",
        "2  1.247207e-06  \n",
        "3   1.87081e-06  \n",
        "4  2.494413e-06  \n",
        "5  3.118016e-06  "
       ]
      },
      {
       "html": [
        "<div style=\"max-height:1000px;max-width:1500px;overflow:auto;\">\n",
        "<table border=\"1\" class=\"dataframe\">\n",
        "  <thead>\n",
        "    <tr style=\"text-align: right;\">\n",
        "      <th></th>\n",
        "      <th>5.0</th>\n",
        "      <th>5.5</th>\n",
        "      <th>6.0</th>\n",
        "      <th>6.5</th>\n",
        "      <th>7.0</th>\n",
        "      <th>7.5</th>\n",
        "    </tr>\n",
        "  </thead>\n",
        "  <tbody>\n",
        "    <tr>\n",
        "      <th>1</th>\n",
        "      <td> 0.0006412814</td>\n",
        "      <td> 0.0002053575</td>\n",
        "      <td> 6.616742e-05</td>\n",
        "      <td> 2.063002e-05</td>\n",
        "      <td> 5.694579e-06</td>\n",
        "      <td> 6.028045e-07</td>\n",
        "    </tr>\n",
        "    <tr>\n",
        "      <th>2</th>\n",
        "      <td>  0.001282556</td>\n",
        "      <td> 0.0004107151</td>\n",
        "      <td> 0.0001323348</td>\n",
        "      <td> 4.126005e-05</td>\n",
        "      <td> 1.138916e-05</td>\n",
        "      <td> 1.205609e-06</td>\n",
        "    </tr>\n",
        "    <tr>\n",
        "      <th>3</th>\n",
        "      <td>  0.001923831</td>\n",
        "      <td> 0.0006160726</td>\n",
        "      <td> 0.0001985022</td>\n",
        "      <td> 6.189007e-05</td>\n",
        "      <td> 1.708374e-05</td>\n",
        "      <td> 1.808414e-06</td>\n",
        "    </tr>\n",
        "    <tr>\n",
        "      <th>4</th>\n",
        "      <td>  0.002565106</td>\n",
        "      <td> 0.0008214302</td>\n",
        "      <td> 0.0002646697</td>\n",
        "      <td> 8.252009e-05</td>\n",
        "      <td> 2.277832e-05</td>\n",
        "      <td> 2.411218e-06</td>\n",
        "    </tr>\n",
        "    <tr>\n",
        "      <th>5</th>\n",
        "      <td>  0.003206381</td>\n",
        "      <td>  0.001026788</td>\n",
        "      <td> 0.0003308371</td>\n",
        "      <td> 0.0001031501</td>\n",
        "      <td> 2.847289e-05</td>\n",
        "      <td> 3.014023e-06</td>\n",
        "    </tr>\n",
        "  </tbody>\n",
        "</table>\n",
        "</div>"
       ],
       "metadata": {},
       "output_type": "pyout",
       "prompt_number": 24,
       "text": [
        "            5.0           5.5           6.0           6.5           7.0  \\\n",
        "1  0.0006412814  0.0002053575  6.616742e-05  2.063002e-05  5.694579e-06   \n",
        "2   0.001282556  0.0004107151  0.0001323348  4.126005e-05  1.138916e-05   \n",
        "3   0.001923831  0.0006160726  0.0001985022  6.189007e-05  1.708374e-05   \n",
        "4   0.002565106  0.0008214302  0.0002646697  8.252009e-05  2.277832e-05   \n",
        "5   0.003206381   0.001026788  0.0003308371  0.0001031501  2.847289e-05   \n",
        "\n",
        "            7.5  \n",
        "1  6.028045e-07  \n",
        "2  1.205609e-06  \n",
        "3  1.808414e-06  \n",
        "4  2.411218e-06  \n",
        "5  3.014023e-06  "
       ]
      }
     ],
     "prompt_number": 24
    },
    {
     "cell_type": "code",
     "collapsed": false,
     "input": [
      "pqxq_probs.to_csv('../results/pqxq_table.csv')"
     ],
     "language": "python",
     "metadata": {},
     "outputs": [],
     "prompt_number": 30
    },
    {
     "cell_type": "markdown",
     "metadata": {},
     "source": [
      "## Pumqu-Xainza, north segment"
     ]
    },
    {
     "cell_type": "code",
     "collapsed": false,
     "input": [
      "pqxn_probs = get_probs('pqx_n')"
     ],
     "language": "python",
     "metadata": {},
     "outputs": [],
     "prompt_number": 31
    },
    {
     "cell_type": "code",
     "collapsed": false,
     "input": [
      "pqxn_probs.head()"
     ],
     "language": "python",
     "metadata": {},
     "outputs": [
      {
       "html": [
        "<div style=\"max-height:1000px;max-width:1500px;overflow:auto;\">\n",
        "<table border=\"1\" class=\"dataframe\">\n",
        "  <thead>\n",
        "    <tr style=\"text-align: right;\">\n",
        "      <th></th>\n",
        "      <th>5.0</th>\n",
        "      <th>5.5</th>\n",
        "      <th>6.0</th>\n",
        "      <th>6.5</th>\n",
        "      <th>7.0</th>\n",
        "      <th>7.5</th>\n",
        "    </tr>\n",
        "  </thead>\n",
        "  <tbody>\n",
        "    <tr>\n",
        "      <th>1</th>\n",
        "      <td> 0.0008962962</td>\n",
        "      <td> 0.0002869313</td>\n",
        "      <td> 9.040043e-05</td>\n",
        "      <td>    2.783e-05</td>\n",
        "      <td> 7.860517e-06</td>\n",
        "      <td> 9.590369e-07</td>\n",
        "    </tr>\n",
        "    <tr>\n",
        "      <th>2</th>\n",
        "      <td>  0.001792583</td>\n",
        "      <td> 0.0005738626</td>\n",
        "      <td> 0.0001808009</td>\n",
        "      <td> 5.565999e-05</td>\n",
        "      <td> 1.572103e-05</td>\n",
        "      <td> 1.918074e-06</td>\n",
        "    </tr>\n",
        "    <tr>\n",
        "      <th>3</th>\n",
        "      <td>  0.002688871</td>\n",
        "      <td> 0.0008607939</td>\n",
        "      <td> 0.0002712013</td>\n",
        "      <td> 8.348999e-05</td>\n",
        "      <td> 2.358155e-05</td>\n",
        "      <td> 2.877111e-06</td>\n",
        "    </tr>\n",
        "    <tr>\n",
        "      <th>4</th>\n",
        "      <td>  0.003585158</td>\n",
        "      <td>  0.001147725</td>\n",
        "      <td> 0.0003616017</td>\n",
        "      <td>   0.00011132</td>\n",
        "      <td> 3.144207e-05</td>\n",
        "      <td> 3.836148e-06</td>\n",
        "    </tr>\n",
        "    <tr>\n",
        "      <th>5</th>\n",
        "      <td>  0.004481445</td>\n",
        "      <td>  0.001434656</td>\n",
        "      <td> 0.0004520022</td>\n",
        "      <td>   0.00013915</td>\n",
        "      <td> 3.930259e-05</td>\n",
        "      <td> 4.795184e-06</td>\n",
        "    </tr>\n",
        "  </tbody>\n",
        "</table>\n",
        "</div>"
       ],
       "metadata": {},
       "output_type": "pyout",
       "prompt_number": 32,
       "text": [
        "            5.0           5.5           6.0           6.5           7.0  \\\n",
        "1  0.0008962962  0.0002869313  9.040043e-05     2.783e-05  7.860517e-06   \n",
        "2   0.001792583  0.0005738626  0.0001808009  5.565999e-05  1.572103e-05   \n",
        "3   0.002688871  0.0008607939  0.0002712013  8.348999e-05  2.358155e-05   \n",
        "4   0.003585158   0.001147725  0.0003616017    0.00011132  3.144207e-05   \n",
        "5   0.004481445   0.001434656  0.0004520022    0.00013915  3.930259e-05   \n",
        "\n",
        "            7.5  \n",
        "1  9.590369e-07  \n",
        "2  1.918074e-06  \n",
        "3  2.877111e-06  \n",
        "4  3.836148e-06  \n",
        "5  4.795184e-06  "
       ]
      }
     ],
     "prompt_number": 32
    },
    {
     "cell_type": "code",
     "collapsed": false,
     "input": [
      "pqxn_probs.to_csv('../results/pqxn_table.csv')"
     ],
     "language": "python",
     "metadata": {},
     "outputs": [],
     "prompt_number": 33
    },
    {
     "cell_type": "markdown",
     "metadata": {},
     "source": [
      "## Nyainqentanglha detachment"
     ]
    },
    {
     "cell_type": "code",
     "collapsed": false,
     "input": [
      "nqtl_probs = get_probs('nqtl')"
     ],
     "language": "python",
     "metadata": {},
     "outputs": [],
     "prompt_number": 10
    },
    {
     "cell_type": "code",
     "collapsed": false,
     "input": [
      "nqtl_probs.head()"
     ],
     "language": "python",
     "metadata": {},
     "outputs": [
      {
       "html": [
        "<div style=\"max-height:1000px;max-width:1500px;overflow:auto;\">\n",
        "<table border=\"1\" class=\"dataframe\">\n",
        "  <thead>\n",
        "    <tr style=\"text-align: right;\">\n",
        "      <th></th>\n",
        "      <th>5.0</th>\n",
        "      <th>5.5</th>\n",
        "      <th>6.0</th>\n",
        "      <th>6.5</th>\n",
        "      <th>7.0</th>\n",
        "      <th>7.5</th>\n",
        "    </tr>\n",
        "  </thead>\n",
        "  <tbody>\n",
        "    <tr>\n",
        "      <th>1</th>\n",
        "      <td> 0.01217447</td>\n",
        "      <td> 0.003928182</td>\n",
        "      <td> 0.001240889</td>\n",
        "      <td> 0.0003806581</td>\n",
        "      <td> 0.0001058671</td>\n",
        "      <td> 1.378224e-05</td>\n",
        "    </tr>\n",
        "    <tr>\n",
        "      <th>2</th>\n",
        "      <td> 0.02072983</td>\n",
        "      <td> 0.007856242</td>\n",
        "      <td> 0.002481657</td>\n",
        "      <td> 0.0007611943</td>\n",
        "      <td> 0.0002117342</td>\n",
        "      <td> 2.756448e-05</td>\n",
        "    </tr>\n",
        "    <tr>\n",
        "      <th>3</th>\n",
        "      <td> 0.02695721</td>\n",
        "      <td>   0.0117843</td>\n",
        "      <td> 0.003722424</td>\n",
        "      <td>   0.00114173</td>\n",
        "      <td> 0.0003176013</td>\n",
        "      <td> 4.134672e-05</td>\n",
        "    </tr>\n",
        "    <tr>\n",
        "      <th>4</th>\n",
        "      <td> 0.03197577</td>\n",
        "      <td>  0.01568846</td>\n",
        "      <td> 0.004963192</td>\n",
        "      <td>  0.001522267</td>\n",
        "      <td> 0.0004234684</td>\n",
        "      <td> 5.512896e-05</td>\n",
        "    </tr>\n",
        "    <tr>\n",
        "      <th>5</th>\n",
        "      <td> 0.03623558</td>\n",
        "      <td>  0.01951821</td>\n",
        "      <td> 0.006203959</td>\n",
        "      <td>  0.001902803</td>\n",
        "      <td> 0.0005293356</td>\n",
        "      <td>  6.89112e-05</td>\n",
        "    </tr>\n",
        "  </tbody>\n",
        "</table>\n",
        "</div>"
       ],
       "metadata": {},
       "output_type": "pyout",
       "prompt_number": 11,
       "text": [
        "          5.0          5.5          6.0           6.5           7.0  \\\n",
        "1  0.01217447  0.003928182  0.001240889  0.0003806581  0.0001058671   \n",
        "2  0.02072983  0.007856242  0.002481657  0.0007611943  0.0002117342   \n",
        "3  0.02695721    0.0117843  0.003722424    0.00114173  0.0003176013   \n",
        "4  0.03197577   0.01568846  0.004963192   0.001522267  0.0004234684   \n",
        "5  0.03623558   0.01951821  0.006203959   0.001902803  0.0005293356   \n",
        "\n",
        "            7.5  \n",
        "1  1.378224e-05  \n",
        "2  2.756448e-05  \n",
        "3  4.134672e-05  \n",
        "4  5.512896e-05  \n",
        "5   6.89112e-05  "
       ]
      }
     ],
     "prompt_number": 11
    },
    {
     "cell_type": "code",
     "collapsed": false,
     "input": [
      "nqtl_probs.to_csv('../results/nqtl_table.csv')"
     ],
     "language": "python",
     "metadata": {},
     "outputs": [],
     "prompt_number": 12
    },
    {
     "cell_type": "markdown",
     "metadata": {},
     "source": [
      "## Alto-Tiberina detachment"
     ]
    },
    {
     "cell_type": "code",
     "collapsed": false,
     "input": [
      "at_probs = get_probs('alto_tiberina')"
     ],
     "language": "python",
     "metadata": {},
     "outputs": [],
     "prompt_number": 13
    },
    {
     "cell_type": "code",
     "collapsed": false,
     "input": [
      "at_probs.head()"
     ],
     "language": "python",
     "metadata": {},
     "outputs": [
      {
       "html": [
        "<div style=\"max-height:1000px;max-width:1500px;overflow:auto;\">\n",
        "<table border=\"1\" class=\"dataframe\">\n",
        "  <thead>\n",
        "    <tr style=\"text-align: right;\">\n",
        "      <th></th>\n",
        "      <th>5.0</th>\n",
        "      <th>5.5</th>\n",
        "      <th>6.0</th>\n",
        "      <th>6.5</th>\n",
        "      <th>7.0</th>\n",
        "      <th>7.5</th>\n",
        "    </tr>\n",
        "  </thead>\n",
        "  <tbody>\n",
        "    <tr>\n",
        "      <th>1</th>\n",
        "      <td> 0.005915221</td>\n",
        "      <td> 0.001912036</td>\n",
        "      <td> 0.0006129352</td>\n",
        "      <td> 0.0001919489</td>\n",
        "      <td>  4.93921e-05</td>\n",
        "      <td> 6.033526e-06</td>\n",
        "    </tr>\n",
        "    <tr>\n",
        "      <th>2</th>\n",
        "      <td>  0.01183038</td>\n",
        "      <td> 0.003824072</td>\n",
        "      <td>   0.00122587</td>\n",
        "      <td> 0.0003838979</td>\n",
        "      <td>  9.87842e-05</td>\n",
        "      <td> 1.206705e-05</td>\n",
        "    </tr>\n",
        "    <tr>\n",
        "      <th>3</th>\n",
        "      <td>  0.01774555</td>\n",
        "      <td> 0.005736108</td>\n",
        "      <td>  0.001838806</td>\n",
        "      <td> 0.0005758468</td>\n",
        "      <td> 0.0001481763</td>\n",
        "      <td> 1.810058e-05</td>\n",
        "    </tr>\n",
        "    <tr>\n",
        "      <th>4</th>\n",
        "      <td>  0.02358209</td>\n",
        "      <td> 0.007648145</td>\n",
        "      <td>  0.002451741</td>\n",
        "      <td> 0.0007677957</td>\n",
        "      <td> 0.0001975684</td>\n",
        "      <td>  2.41341e-05</td>\n",
        "    </tr>\n",
        "    <tr>\n",
        "      <th>5</th>\n",
        "      <td>  0.02889586</td>\n",
        "      <td> 0.009560181</td>\n",
        "      <td>  0.003064676</td>\n",
        "      <td> 0.0009597447</td>\n",
        "      <td> 0.0002469605</td>\n",
        "      <td> 3.016763e-05</td>\n",
        "    </tr>\n",
        "  </tbody>\n",
        "</table>\n",
        "</div>"
       ],
       "metadata": {},
       "output_type": "pyout",
       "prompt_number": 14,
       "text": [
        "           5.0          5.5           6.0           6.5           7.0  \\\n",
        "1  0.005915221  0.001912036  0.0006129352  0.0001919489   4.93921e-05   \n",
        "2   0.01183038  0.003824072    0.00122587  0.0003838979   9.87842e-05   \n",
        "3   0.01774555  0.005736108   0.001838806  0.0005758468  0.0001481763   \n",
        "4   0.02358209  0.007648145   0.002451741  0.0007677957  0.0001975684   \n",
        "5   0.02889586  0.009560181   0.003064676  0.0009597447  0.0002469605   \n",
        "\n",
        "            7.5  \n",
        "1  6.033526e-06  \n",
        "2  1.206705e-05  \n",
        "3  1.810058e-05  \n",
        "4   2.41341e-05  \n",
        "5  3.016763e-05  "
       ]
      }
     ],
     "prompt_number": 14
    },
    {
     "cell_type": "code",
     "collapsed": false,
     "input": [
      "at_probs.to_csv('../results/at_table.csv')"
     ],
     "language": "python",
     "metadata": {},
     "outputs": [],
     "prompt_number": 15
    },
    {
     "cell_type": "code",
     "collapsed": false,
     "input": [],
     "language": "python",
     "metadata": {},
     "outputs": []
    }
   ],
   "metadata": {}
  }
 ]
}