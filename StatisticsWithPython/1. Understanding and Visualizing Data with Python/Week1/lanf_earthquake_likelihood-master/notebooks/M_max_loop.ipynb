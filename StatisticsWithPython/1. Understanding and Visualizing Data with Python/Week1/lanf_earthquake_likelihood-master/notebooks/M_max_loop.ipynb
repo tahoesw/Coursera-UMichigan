{
 "metadata": {
  "name": ""
 },
 "nbformat": 3,
 "nbformat_minor": 0,
 "worksheets": [
  {
   "cells": [
    {
     "cell_type": "markdown",
     "metadata": {},
     "source": [
      "# Further work on parallelization and loops"
     ]
    },
    {
     "cell_type": "markdown",
     "metadata": {},
     "source": [
      "### Goal now is to do all DFs of each magnitude for a fault from a single script.\n",
      "###Later we will run all faults from a script."
     ]
    },
    {
     "cell_type": "code",
     "collapsed": false,
     "input": [
      "import sys\n",
      "sys.path.append('../eq_stats')\n",
      "\n",
      "import numpy as np\n",
      "import pandas as pd\n",
      "import eq_stats as eqs\n",
      "import time\n",
      "from joblib import Parallel, delayed\n",
      "\n",
      "# problem setup\n",
      "\n",
      "# read in fault data table\n",
      "f = pd.read_csv('../data/lanf_stats.csv', index_col=0) \n",
      "\n",
      "# define some constants and parameters\n",
      "n_eq_samp = 5e4 # number of earthquakes in time series\n",
      "time_window = np.hstack( (1, np.arange(5, 105, step=5) ) ) # observation times\n",
      "mc_iters = 1e4\n",
      "mc_index = np.arange(mc_iters, dtype='int')\n",
      "mc_cols = ['dip', 'Ddot'] + [t for t in time_window]\n",
      "max_eq_slip = 15 #m\n",
      "Mc = 7.64\n",
      "\n",
      "# define frequency-magnitude distribution\n",
      "M_vec = np.linspace(5, Mc, num=1000)\n",
      "FM_vec = eqs.F(M=M_vec, Mc=Mc)"
     ],
     "language": "python",
     "metadata": {},
     "outputs": [],
     "prompt_number": 11
    },
    {
     "cell_type": "code",
     "collapsed": false,
     "input": [
      "reload(eqs)"
     ],
     "language": "python",
     "metadata": {},
     "outputs": [
      {
       "metadata": {},
       "output_type": "pyout",
       "prompt_number": 65,
       "text": [
        "<module 'eq_stats' from '../eq_stats/eq_stats.py'>"
       ]
      }
     ],
     "prompt_number": 65
    },
    {
     "cell_type": "markdown",
     "metadata": {},
     "source": [
      "Make dict of DFs for each minimum magnitude (for probabilities)"
     ]
    },
    {
     "cell_type": "code",
     "collapsed": false,
     "input": [
      "slr_params = f.loc['s_lunggar']\n",
      "\n",
      "slr = {}\n",
      "\n",
      "min_M_list = [5, 5.5, 6, 6.5, 7, 7.5]"
     ],
     "language": "python",
     "metadata": {},
     "outputs": [],
     "prompt_number": 12
    },
    {
     "cell_type": "code",
     "collapsed": false,
     "input": [
      "for MM in min_M_list:\n",
      "    slr[MM] = pd.DataFrame(index=mc_index, columns=mc_cols, dtype='float')\n",
      "    \n",
      "    slr[MM].dip, slr_dip_frac = eqs.dip_rand_samp( slr_params['dip_deg'],\n",
      "                                                  slr_params['dip_err_deg'],\n",
      "                                                  mc_iters)\n",
      "    \n",
      "    slr[MM].Ddot = eqs.Ddot_rand_samp(slr_params['slip_rate_mm_a'],\n",
      "                                      slr_params['sr_err_mm_a'], mc_iters)\n"
     ],
     "language": "python",
     "metadata": {},
     "outputs": [],
     "prompt_number": 52
    },
    {
     "cell_type": "code",
     "collapsed": false,
     "input": [
      "slr[5][['dip','Ddot']].head()"
     ],
     "language": "python",
     "metadata": {},
     "outputs": [
      {
       "html": [
        "<div style=\"max-height:1000px;max-width:1500px;overflow:auto;\">\n",
        "<table border=\"1\" class=\"dataframe\">\n",
        "  <thead>\n",
        "    <tr style=\"text-align: right;\">\n",
        "      <th></th>\n",
        "      <th>dip</th>\n",
        "      <th>Ddot</th>\n",
        "    </tr>\n",
        "  </thead>\n",
        "  <tbody>\n",
        "    <tr>\n",
        "      <th>0</th>\n",
        "      <td> 17.164773</td>\n",
        "      <td> 2.067418</td>\n",
        "    </tr>\n",
        "    <tr>\n",
        "      <th>1</th>\n",
        "      <td> 21.715364</td>\n",
        "      <td> 2.402219</td>\n",
        "    </tr>\n",
        "    <tr>\n",
        "      <th>2</th>\n",
        "      <td> 17.750128</td>\n",
        "      <td> 2.223801</td>\n",
        "    </tr>\n",
        "    <tr>\n",
        "      <th>3</th>\n",
        "      <td> 21.232867</td>\n",
        "      <td> 2.666933</td>\n",
        "    </tr>\n",
        "    <tr>\n",
        "      <th>4</th>\n",
        "      <td> 19.047855</td>\n",
        "      <td> 2.667811</td>\n",
        "    </tr>\n",
        "  </tbody>\n",
        "</table>\n",
        "</div>"
       ],
       "metadata": {},
       "output_type": "pyout",
       "prompt_number": 53,
       "text": [
        "         dip      Ddot\n",
        "0  17.164773  2.067418\n",
        "1  21.715364  2.402219\n",
        "2  17.750128  2.223801\n",
        "3  21.232867  2.666933\n",
        "4  19.047855  2.667811"
       ]
      }
     ],
     "prompt_number": 53
    },
    {
     "cell_type": "code",
     "collapsed": false,
     "input": [
      "def calc_row_probs(df, index):\n",
      "    ss = df.iloc[index]\n",
      "    # Calculate maximum EQ size based on maximum mean slip (D)\n",
      "    max_Mo = eqs.calc_Mo_from_fault_params(L=slr_params['L_km'], \n",
      "                                           z=slr_params['z_km'], \n",
      "                                           dip=ss['dip'], D=max_eq_slip)\n",
      "    max_M = eqs.calc_M_from_Mo(max_Mo)\n",
      "    \n",
      "    # Generate EQ sample/sequence from F(M) dist.\n",
      "    m_vec = np.linspace(5, max_M, num=1000)\n",
      "    fm_vec = eqs.F(m_vec, Mc=Mc)\n",
      "    M_samp = eqs.sample_from_pdf(m_vec, fm_vec, n_eq_samp)\n",
      "    Mo_samp = eqs.calc_Mo_from_M(M_samp)\n",
      "    \n",
      "    # Make time series of earthquakes, including no eq years\n",
      "    recur_int = eqs.calc_recurrence_interval(Mo=Mo_samp, dip=ss['dip'],\n",
      "                                             slip_rate=ss['Ddot'],\n",
      "                                             L=slr_params['L_km'],\n",
      "                                             z=slr_params['z_km'])\n",
      "    cum_yrs = eqs.calc_cumulative_yrs(recur_int)\n",
      "    eq_series = eqs.make_eq_time_series(M_samp, cum_yrs)\n",
      "    \n",
      "    # calculate probability of observing EQ in time_window\n",
      "    for t in time_window:\n",
      "        ss[t] = ( eqs.get_prob_above_val_in_window(eq_series, MM, t)\n",
      "                 * slr_dip_frac)\n",
      "    return ss\n",
      "                                             "
     ],
     "language": "python",
     "metadata": {},
     "outputs": [],
     "prompt_number": 68
    },
    {
     "cell_type": "code",
     "collapsed": false,
     "input": [
      "for MM in min_M_list:\n",
      "    t_in = time.time()\n",
      "    ss_list = Parallel(n_jobs=-2)(delayed( calc_row_probs)(slr[MM], ii)\n",
      "                                  for ii in mc_index)\n",
      "    for n_row, ser in enumerate(ss_list):\n",
      "        ind = ser.index\n",
      "        slr[MM].iloc[n_row][list(ind)] = ser.values\n",
      "        \n",
      "    print 'done with', MM, 'in', time.time()-t_in, 's'"
     ],
     "language": "python",
     "metadata": {},
     "outputs": [
      {
       "output_type": "stream",
       "stream": "stdout",
       "text": [
        "done with 5 in 18.6936578751 s\n"
       ]
      },
      {
       "output_type": "stream",
       "stream": "stdout",
       "text": [
        "done with 5.5 in 17.1720798016 s\n"
       ]
      },
      {
       "output_type": "stream",
       "stream": "stdout",
       "text": [
        "done with 6 in 17.4833269119 s\n"
       ]
      },
      {
       "output_type": "stream",
       "stream": "stdout",
       "text": [
        "done with 6.5 in 17.5855472088 s\n"
       ]
      },
      {
       "output_type": "stream",
       "stream": "stdout",
       "text": [
        "done with 7 in 16.6848838329 s\n"
       ]
      },
      {
       "output_type": "stream",
       "stream": "stdout",
       "text": [
        "done with 7.5 in 16.7799210548 s\n"
       ]
      }
     ],
     "prompt_number": 70
    },
    {
     "cell_type": "code",
     "collapsed": false,
     "input": [],
     "language": "python",
     "metadata": {},
     "outputs": []
    }
   ],
   "metadata": {}
  }
 ]
}